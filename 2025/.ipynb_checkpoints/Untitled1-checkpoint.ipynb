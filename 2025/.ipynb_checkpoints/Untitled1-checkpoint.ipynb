{
 "cells": [
  {
   "cell_type": "code",
   "execution_count": 1,
   "id": "ec5de641-a227-43b4-adca-90d91d464e56",
   "metadata": {},
   "outputs": [],
   "source": [
    "import pandas as pd"
   ]
  },
  {
   "cell_type": "code",
   "execution_count": 3,
   "id": "0476e602-f8b5-4178-9b13-6615b6afa0c2",
   "metadata": {},
   "outputs": [
    {
     "name": "stdout",
     "output_type": "stream",
     "text": [
      "Starting automated processing for all 12 months...\n",
      "--> Skipping: The file '2023\\reportable(2).xlsx' was not found.\n",
      "--> Skipping: The file '2023\\reportable(3).xlsx' was not found.\n",
      "--> Skipping: The file '2023\\reportable(4).xlsx' was not found.\n",
      "--> Skipping: The file '2023\\reportable(5).xlsx' was not found.\n",
      "--> Skipping: The file '2023\\reportable(6).xlsx' was not found.\n",
      "--> Skipping: The file '2023\\reportable(7).xlsx' was not found.\n",
      "--> Skipping: The file '2023\\reportable(8).xlsx' was not found.\n",
      "--> Skipping: The file '2023\\reportable(9).xlsx' was not found.\n",
      "--> Skipping: The file '2023\\reportable(10).xlsx' was not found.\n",
      "--> Skipping: The file '2023\\reportable(11).xlsx' was not found.\n",
      "--> Skipping: The file '2023\\reportable(12).xlsx' was not found.\n",
      "--> Skipping: The file '2023\\reportable(13).xlsx' was not found.\n",
      "\n",
      "Automation complete.\n"
     ]
    }
   ],
   "source": [
    "import pandas as pd\n",
    "import os\n",
    "\n",
    "def process_monthly_file(input_filepath, output_filepath):\n",
    "    \"\"\"\n",
    "    Reads a monthly vehicle data Excel file, cleans it, summarizes the data,\n",
    "    and saves the result to a CSV file.\n",
    "\n",
    "    Args:\n",
    "        input_filepath (str): The full path to the input Excel file.\n",
    "        output_filepath (str): The full path for the output CSV file.\n",
    "    \"\"\"\n",
    "    try:\n",
    "        # Load the Excel file, skipping the initial header rows.\n",
    "        df = pd.read_excel(input_filepath, skiprows=3)\n",
    "    except FileNotFoundError:\n",
    "        print(f\"--> Skipping: The file '{input_filepath}' was not found.\")\n",
    "        return # Exit the function if file doesn't exist\n",
    "\n",
    "    # Clean up column names by removing any leading or trailing whitespace.\n",
    "    df.columns = df.columns.str.strip()\n",
    "\n",
    "    # Define the column groups for each vehicle category.\n",
    "    two_wheeler_cols = ['2WIC', '2WN', '2WT']\n",
    "    three_wheeler_cols = ['3WIC', '3WN', '3WT']\n",
    "    four_wheeler_cols = ['4WIC', 'HGV', 'HMV', 'HPV', 'LGV', 'LMV', 'LPV', 'MGV', 'MMV', 'MPV', 'OTH']\n",
    "    all_vehicle_cols = two_wheeler_cols + three_wheeler_cols + four_wheeler_cols\n",
    "\n",
    "    # --- Data Cleaning and Conversion ---\n",
    "    for col in all_vehicle_cols:\n",
    "        if col in df.columns:\n",
    "            df[col] = df[col].astype(str).str.replace(',', '').fillna(0)\n",
    "            df[col] = pd.to_numeric(df[col], errors='coerce').fillna(0)\n",
    "\n",
    "    # --- Create the Final Cleaned DataFrame ---\n",
    "    final_df = pd.DataFrame()\n",
    "    final_df['Maker'] = df['Unnamed: 1']\n",
    "    final_df['2W'] = df[two_wheeler_cols].sum(axis=1)\n",
    "    final_df['3W'] = df[three_wheeler_cols].sum(axis=1)\n",
    "    final_df['4W'] = df[four_wheeler_cols].sum(axis=1)\n",
    "\n",
    "    # --- Save the Output ---\n",
    "    final_df.to_csv(output_filepath, index=False)\n",
    "    print(f\"--> Success: Processed '{input_filepath}' and saved to '{output_filepath}'\")\n",
    "\n",
    "\n",
    "# --- Main Automation Script ---\n",
    "if __name__ == \"__main__\":\n",
    "    input_directory = '2023'\n",
    "    output_directory = '2023'\n",
    "    \n",
    "    # Create the output directory if it does not already exist.\n",
    "    os.makedirs(output_directory, exist_ok=True)\n",
    "\n",
    "    # List of months for generating output filenames.\n",
    "    months = ['JAN', 'FEB', 'MAR', 'APR', 'MAY', 'JUN', 'JUL', 'AUG', 'SEP', 'OCT', 'NOV', 'DEC']\n",
    "\n",
    "    print(\"Starting automated processing for all 12 months...\")\n",
    "\n",
    "    # Loop through each month of the year.\n",
    "    for i, month_abbr in enumerate(months):\n",
    "        # Input filenames are 'reportable(2).xlsx' for Jan, 'reportable(3).xlsx' for Feb, etc.\n",
    "        month_number = i + 2 \n",
    "        input_filename = f'reportable({month_number}).xlsx'\n",
    "        input_filepath = os.path.join(input_directory, input_filename)\n",
    "\n",
    "        # Output filenames will be '2023-JAN.csv', '2023-FEB.csv', etc.\n",
    "        output_filename = f'2023-{month_abbr}.csv'\n",
    "        output_filepath = os.path.join(output_directory, output_filename)\n",
    "\n",
    "        # Process the file for the current month.\n",
    "        process_monthly_file(input_filepath, output_filepath)\n",
    "\n",
    "    print(\"\\nAutomation complete.\")\n",
    "\n"
   ]
  },
  {
   "cell_type": "code",
   "execution_count": null,
   "id": "31e6ea9f-e538-4c22-b188-60e154ab9f8a",
   "metadata": {},
   "outputs": [],
   "source": []
  }
 ],
 "metadata": {
  "kernelspec": {
   "display_name": "Python 3 (ipykernel)",
   "language": "python",
   "name": "python3"
  },
  "language_info": {
   "codemirror_mode": {
    "name": "ipython",
    "version": 3
   },
   "file_extension": ".py",
   "mimetype": "text/x-python",
   "name": "python",
   "nbconvert_exporter": "python",
   "pygments_lexer": "ipython3",
   "version": "3.13.5"
  }
 },
 "nbformat": 4,
 "nbformat_minor": 5
}
